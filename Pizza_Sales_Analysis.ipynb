{
  "cells": [
    {
      "cell_type": "markdown",
      "metadata": {
        "id": "view-in-github",
        "colab_type": "text"
      },
      "source": [
        "<a href=\"https://colab.research.google.com/github/rashmi672/Pizza_Sales_Analysis_Using_SQL/blob/main/Pizza_Sales_Analysis.ipynb\" target=\"_parent\"><img src=\"https://colab.research.google.com/assets/colab-badge.svg\" alt=\"Open In Colab\"/></a>"
      ]
    },
    {
      "cell_type": "code",
      "execution_count": null,
      "metadata": {
        "colab": {
          "base_uri": "https://localhost:8080/"
        },
        "id": "GuPHcKNKhA8Y",
        "outputId": "17b10d2a-7031-4cdf-9c92-714a07fb2cb2"
      },
      "outputs": [
        {
          "name": "stdout",
          "output_type": "stream",
          "text": [
            "Drive already mounted at /content/drive; to attempt to forcibly remount, call drive.mount(\"/content/drive\", force_remount=True).\n"
          ]
        }
      ],
      "source": [
        "from google.colab import drive\n",
        "drive.mount('/content/drive')"
      ]
    },
    {
      "cell_type": "code",
      "execution_count": null,
      "metadata": {
        "colab": {
          "base_uri": "https://localhost:8080/"
        },
        "id": "Aco-5XGiRlSy",
        "outputId": "a910e807-8513-40c7-b9b8-2f9527c5c756"
      },
      "outputs": [
        {
          "name": "stdout",
          "output_type": "stream",
          "text": [
            "Requirement already satisfied: ipython-sql in /usr/local/lib/python3.10/dist-packages (0.5.0)\n",
            "Requirement already satisfied: prettytable in /usr/local/lib/python3.10/dist-packages (from ipython-sql) (3.11.0)\n",
            "Requirement already satisfied: ipython in /usr/local/lib/python3.10/dist-packages (from ipython-sql) (7.34.0)\n",
            "Requirement already satisfied: sqlalchemy>=2.0 in /usr/local/lib/python3.10/dist-packages (from ipython-sql) (2.0.36)\n",
            "Requirement already satisfied: sqlparse in /usr/local/lib/python3.10/dist-packages (from ipython-sql) (0.5.1)\n",
            "Requirement already satisfied: six in /usr/local/lib/python3.10/dist-packages (from ipython-sql) (1.16.0)\n",
            "Requirement already satisfied: ipython-genutils in /usr/local/lib/python3.10/dist-packages (from ipython-sql) (0.2.0)\n",
            "Requirement already satisfied: typing-extensions>=4.6.0 in /usr/local/lib/python3.10/dist-packages (from sqlalchemy>=2.0->ipython-sql) (4.12.2)\n",
            "Requirement already satisfied: greenlet!=0.4.17 in /usr/local/lib/python3.10/dist-packages (from sqlalchemy>=2.0->ipython-sql) (3.1.1)\n",
            "Requirement already satisfied: setuptools>=18.5 in /usr/local/lib/python3.10/dist-packages (from ipython->ipython-sql) (75.1.0)\n",
            "Requirement already satisfied: jedi>=0.16 in /usr/local/lib/python3.10/dist-packages (from ipython->ipython-sql) (0.19.1)\n",
            "Requirement already satisfied: decorator in /usr/local/lib/python3.10/dist-packages (from ipython->ipython-sql) (4.4.2)\n",
            "Requirement already satisfied: pickleshare in /usr/local/lib/python3.10/dist-packages (from ipython->ipython-sql) (0.7.5)\n",
            "Requirement already satisfied: traitlets>=4.2 in /usr/local/lib/python3.10/dist-packages (from ipython->ipython-sql) (5.7.1)\n",
            "Requirement already satisfied: prompt-toolkit!=3.0.0,!=3.0.1,<3.1.0,>=2.0.0 in /usr/local/lib/python3.10/dist-packages (from ipython->ipython-sql) (3.0.48)\n",
            "Requirement already satisfied: pygments in /usr/local/lib/python3.10/dist-packages (from ipython->ipython-sql) (2.18.0)\n",
            "Requirement already satisfied: backcall in /usr/local/lib/python3.10/dist-packages (from ipython->ipython-sql) (0.2.0)\n",
            "Requirement already satisfied: matplotlib-inline in /usr/local/lib/python3.10/dist-packages (from ipython->ipython-sql) (0.1.7)\n",
            "Requirement already satisfied: pexpect>4.3 in /usr/local/lib/python3.10/dist-packages (from ipython->ipython-sql) (4.9.0)\n",
            "Requirement already satisfied: wcwidth in /usr/local/lib/python3.10/dist-packages (from prettytable->ipython-sql) (0.2.13)\n",
            "Requirement already satisfied: parso<0.9.0,>=0.8.3 in /usr/local/lib/python3.10/dist-packages (from jedi>=0.16->ipython->ipython-sql) (0.8.4)\n",
            "Requirement already satisfied: ptyprocess>=0.5 in /usr/local/lib/python3.10/dist-packages (from pexpect>4.3->ipython->ipython-sql) (0.7.0)\n"
          ]
        }
      ],
      "source": [
        "!pip install ipython-sql"
      ]
    },
    {
      "cell_type": "code",
      "execution_count": null,
      "metadata": {
        "id": "Xmxlm9NMR98m"
      },
      "outputs": [],
      "source": [
        "# Load the SQL extension\n",
        "%load_ext sql\n",
        "\n",
        "# Create a SQLite database\n",
        "%sql sqlite://\n"
      ]
    },
    {
      "cell_type": "markdown",
      "metadata": {
        "id": "KJxEdVBVSal1"
      },
      "source": [
        "/content/drive/MyDrive/ColabNotebooks/Pizza_Sales_Analysis"
      ]
    },
    {
      "cell_type": "code",
      "execution_count": null,
      "metadata": {
        "colab": {
          "base_uri": "https://localhost:8080/"
        },
        "id": "bfvQCtGySCsz",
        "outputId": "7f5a6b32-43b2-4f3f-a7a4-8ddfe2e242b8"
      },
      "outputs": [
        {
          "name": "stdout",
          "output_type": "stream",
          "text": [
            "/content/drive/MyDrive/ColabNotebooks/Pizza_Sales_Analysis\n"
          ]
        }
      ],
      "source": [
        "%cd /content/drive/MyDrive/ColabNotebooks/Pizza_Sales_Analysis"
      ]
    },
    {
      "cell_type": "code",
      "execution_count": null,
      "metadata": {
        "colab": {
          "base_uri": "https://localhost:8080/"
        },
        "id": "pTY8YcbWU6UG",
        "outputId": "99f2cfd6-16ab-44ad-80de-17d13abd558f"
      },
      "outputs": [
        {
          "name": "stdout",
          "output_type": "stream",
          "text": [
            " * sqlite://\n",
            "Done.\n"
          ]
        },
        {
          "data": {
            "text/plain": [
              "[]"
            ]
          },
          "execution_count": 5,
          "metadata": {},
          "output_type": "execute_result"
        }
      ],
      "source": [
        "%%sql\n",
        "CREATE TABLE orders (\n",
        "    order_id INT NOT NULL,\n",
        "    order_date DATE NOT NULL,\n",
        "    order_time TIME NOT NULL,\n",
        "    PRIMARY KEY (order_id)\n",
        ");"
      ]
    },
    {
      "cell_type": "code",
      "execution_count": null,
      "metadata": {
        "colab": {
          "base_uri": "https://localhost:8080/",
          "height": 74
        },
        "id": "qCvnAa4AoqJ-",
        "outputId": "4847c5e0-c402-49ed-a3d9-235990227f98"
      },
      "outputs": [
        {
          "name": "stdout",
          "output_type": "stream",
          "text": [
            " * sqlite://\n",
            "Done.\n"
          ]
        },
        {
          "data": {
            "text/html": [
              "<table>\n",
              "    <thead>\n",
              "        <tr>\n",
              "            <th>order_id</th>\n",
              "            <th>order_date</th>\n",
              "            <th>order_time</th>\n",
              "        </tr>\n",
              "    </thead>\n",
              "    <tbody>\n",
              "    </tbody>\n",
              "</table>"
            ],
            "text/plain": [
              "[]"
            ]
          },
          "execution_count": 6,
          "metadata": {},
          "output_type": "execute_result"
        }
      ],
      "source": [
        "%%sql\n",
        "SELECT * FROM orders;"
      ]
    },
    {
      "cell_type": "code",
      "execution_count": null,
      "metadata": {
        "colab": {
          "base_uri": "https://localhost:8080/"
        },
        "id": "GWKdSIYVXBpu",
        "outputId": "c61aaa76-b067-42a6-d4eb-c1091268df4f"
      },
      "outputs": [
        {
          "name": "stdout",
          "output_type": "stream",
          "text": [
            " * sqlite://\n",
            "Done.\n"
          ]
        },
        {
          "data": {
            "text/plain": [
              "[]"
            ]
          },
          "execution_count": 7,
          "metadata": {},
          "output_type": "execute_result"
        }
      ],
      "source": [
        "%%sql\n",
        "CREATE TABLE orders_details (\n",
        "    order_details_id INT NOT NULL,\n",
        "    order_id INT NOT NULL,\n",
        "    pizza_id INT NOT NULL,\n",
        "    quantity INT NOT NULL,\n",
        "    PRIMARY KEY (order_details_id)\n",
        ");"
      ]
    },
    {
      "cell_type": "markdown",
      "metadata": {
        "id": "I0CvRB7aZ4YJ"
      },
      "source": [
        "# Write the query and solve the questions."
      ]
    },
    {
      "cell_type": "markdown",
      "metadata": {
        "id": "7C948-x5aBtZ"
      },
      "source": [
        "## **Basic**:\n",
        "\n",
        "1.   Retrieve the total number of orders placed.\n",
        "2.   Calculate the total revenue generated from pizza sales.\n",
        "3. Identify the highest-priced pizza.\n",
        "4. Identify the most common pizza size ordered.\n",
        "5. List the top 5 most ordered pizza types along with their quantities."
      ]
    },
    {
      "cell_type": "code",
      "execution_count": null,
      "metadata": {
        "colab": {
          "base_uri": "https://localhost:8080/"
        },
        "id": "YkWpDn4-qJh8",
        "outputId": "aff8fa05-0262-41f0-a5e2-cb7e6e1a84be"
      },
      "outputs": [
        {
          "data": {
            "text/plain": [
              "32"
            ]
          },
          "execution_count": 16,
          "metadata": {},
          "output_type": "execute_result"
        }
      ],
      "source": [
        "import pandas as pd\n",
        "import sqlite3\n",
        "\n",
        "# Load CSV files into DataFrames\n",
        "orders_df = pd.read_csv('orders.csv')\n",
        "order_details_df = pd.read_csv('order_details.csv')\n",
        "pizza_df = pd.read_csv('pizza.csv')\n",
        "pizza_type_df = pd.read_csv('pizza_type.csv', encoding='latin-1')\n",
        "\n",
        "# Connect to SQLite database\n",
        "conn = sqlite3.connect(':memory:')\n",
        "cursor = conn.cursor()\n",
        "\n",
        "# Write DataFrames to SQLite tables\n",
        "orders_df.to_sql('orders', conn, index=False, if_exists='replace')\n",
        "order_details_df.to_sql('order_details', conn, index=False, if_exists='replace')\n",
        "pizza_df.to_sql('pizza', conn, index=False, if_exists='replace')\n",
        "pizza_type_df.to_sql('pizza_type', conn, index=False, if_exists='replace')\n"
      ]
    },
    {
      "cell_type": "code",
      "execution_count": null,
      "metadata": {
        "colab": {
          "base_uri": "https://localhost:8080/"
        },
        "id": "GNf3Ju9KXZ4b",
        "outputId": "e8e267b4-8ad0-4e53-ec6b-a213cbe768a6"
      },
      "outputs": [
        {
          "name": "stdout",
          "output_type": "stream",
          "text": [
            " total_orders\n",
            "        21350\n"
          ]
        }
      ],
      "source": [
        "## 1. Retrieve the total number of orders placed.\n",
        "query1 = 'SELECT COUNT(order_id) AS total_orders FROM orders'\n",
        "total_orders = pd.read_sql(query1, conn)\n",
        "print(total_orders.to_string(index=False))\n",
        "\n"
      ]
    },
    {
      "cell_type": "code",
      "execution_count": null,
      "metadata": {
        "colab": {
          "base_uri": "https://localhost:8080/"
        },
        "id": "GgVtrF5ucPjH",
        "outputId": "a7a05842-cc99-49ab-ea5d-00207ea95880"
      },
      "outputs": [
        {
          "name": "stdout",
          "output_type": "stream",
          "text": [
            " total_revenue\n",
            "     817860.05\n"
          ]
        }
      ],
      "source": [
        "## 2. Calculate the total revenue generated from pizza sales.\n",
        "query2 = 'SELECT SUM(order_details.quantity * pizza.price) AS total_revenue FROM order_details JOIN pizza ON order_details.pizza_id = pizza.pizza_id'\n",
        "total_revenue = pd.read_sql(query2, conn)\n",
        "print(total_revenue.to_string(index=False))"
      ]
    },
    {
      "cell_type": "code",
      "execution_count": null,
      "metadata": {
        "colab": {
          "base_uri": "https://localhost:8080/"
        },
        "id": "QIkrw0V9cPWy",
        "outputId": "a4f2c9cd-ca58-4a9f-e1ba-aaad8d0b41ae"
      },
      "outputs": [
        {
          "name": "stdout",
          "output_type": "stream",
          "text": [
            "           name  price\n",
            "The Greek Pizza  35.95\n"
          ]
        }
      ],
      "source": [
        "## 3. Identify the highest-priced pizza.\n",
        "query3 = 'SELECT pt.name, p.price FROM pizza_type pt JOIN pizza p ON pt.pizza_type_id = p.pizza_type_id ORDER BY price DESC'\n",
        "highest_priced_pizza = pd.read_sql(query3, conn)\n",
        "print(highest_priced_pizza.to_string(index=False))"
      ]
    },
    {
      "cell_type": "code",
      "execution_count": 99,
      "metadata": {
        "colab": {
          "base_uri": "https://localhost:8080/",
          "height": 576
        },
        "id": "OGpIDCCWcPBs",
        "outputId": "97787b8e-2dc1-4b7d-cdd3-ca85581cfd70"
      },
      "outputs": [
        {
          "output_type": "stream",
          "name": "stdout",
          "text": [
            "size  count\n",
            "   L  18526\n",
            "   M  15385\n",
            "   S  14137\n",
            "  XL    544\n",
            " XXL     28\n"
          ]
        },
        {
          "output_type": "display_data",
          "data": {
            "text/plain": [
              "<Figure size 640x480 with 1 Axes>"
            ],
            "image/png": "[encoded data removed]"
          },
          "metadata": {}
        }
      ],
      "source": [
        "## 4. Identify the most common pizza size ordered.\n",
        "query4 = 'SELECT size, COUNT(*) AS count FROM order_details od JOIN pizza p ON od.pizza_id = p.pizza_id GROUP BY size ORDER BY count DESC'\n",
        "most_common_size = pd.read_sql(query4, conn)\n",
        "print(most_common_size.to_string(index=False))\n",
        "\n",
        "# Shuffle the DataFrame rows\n",
        "most_common_size = most_common_size.sample(frac=1).reset_index(drop=True)\n",
        "# Plotting the graph\n",
        "colors = plt.cm.Paired(range(len(most_common_size)))\n",
        "##plt.figure(figsize=(10, 6))\n",
        "plt.bar(most_common_size['size'], most_common_size['count'], color=colors)\n",
        "plt.xlabel('Pizza Size')\n",
        "plt.ylabel('Order Count')\n",
        "plt.title('Most Common Pizza Sizes Ordered')\n",
        "plt.xticks(rotation=0)\n",
        "plt.show()"
      ]
    },
    {
      "cell_type": "code",
      "execution_count": 48,
      "metadata": {
        "id": "t_iJw6D2cUiY",
        "colab": {
          "base_uri": "https://localhost:8080/",
          "height": 0
        },
        "outputId": "091aec38-57db-4179-f3f2-3c5c7804a1da"
      },
      "outputs": [
        {
          "output_type": "stream",
          "name": "stdout",
          "text": [
            "                      name  total_quantity\n",
            "  The Classic Deluxe Pizza            2453\n",
            "The Barbecue Chicken Pizza            2432\n",
            "        The Hawaiian Pizza            2422\n",
            "       The Pepperoni Pizza            2418\n",
            "    The Thai Chicken Pizza            2371\n"
          ]
        }
      ],
      "source": [
        "## 5. List the top 5 most ordered pizza types along with their quantities.\n",
        "query5 = 'SELECT pizza_type.name, SUM(order_details.quantity) AS total_quantity FROM order_details JOIN pizza ON order_details.pizza_id = pizza.pizza_id JOIN pizza_type ON pizza.pizza_type_id = pizza_type.pizza_type_id GROUP BY pizza_type.name ORDER BY total_quantity DESC LIMIT 5'\n",
        "most_ordered_pizza_types = pd.read_sql(query5, conn)\n",
        "print(most_ordered_pizza_types.to_string(index=False))"
      ]
    },
    {
      "cell_type": "markdown",
      "metadata": {
        "id": "BQwBVkpQcZM6"
      },
      "source": [
        "## Intermediate:\n",
        "1. Join the necessary tables to find the total quantity of each pizza category ordered.\n",
        "2. Determine the distribution of orders by hour of the day.\n",
        "3. Join relevant tables to find the category-wise distribution of pizzas.\n",
        "4. Group the orders by date and calculate the average number of pizzas ordered per day.\n",
        "5. Determine the top 3 most ordered pizza types based on revenue."
      ]
    },
    {
      "cell_type": "code",
      "execution_count": 51,
      "metadata": {
        "id": "VVOcAuA2ck8i",
        "colab": {
          "base_uri": "https://localhost:8080/",
          "height": 0
        },
        "outputId": "3124a1d8-019f-44a6-ffdb-9b416689504c"
      },
      "outputs": [
        {
          "output_type": "stream",
          "name": "stdout",
          "text": [
            "category  total_quantity\n",
            " Chicken           11050\n",
            " Classic           14888\n",
            " Supreme           11987\n",
            "  Veggie           11649\n"
          ]
        }
      ],
      "source": [
        "## 1. Join the necessary tables to find the total quantity of each pizza category ordered.\n",
        "query_in_1 = 'SELECT pizza_type.category, SUM(order_details.quantity) AS total_quantity FROM order_details JOIN pizza ON order_details.pizza_id = pizza.pizza_id JOIN pizza_type ON pizza.pizza_type_id = pizza_type.pizza_type_id GROUP BY pizza_type.category'\n",
        "total_quantity_per_category = pd.read_sql(query_in_1, conn)\n",
        "print(total_quantity_per_category.to_string(index=False))"
      ]
    },
    {
      "cell_type": "code",
      "execution_count": 54,
      "metadata": {
        "id": "OHmGwQO1c2Fz",
        "colab": {
          "base_uri": "https://localhost:8080/",
          "height": 0
        },
        "outputId": "6ed998ca-b9ee-44d0-d01e-e28ebeb0e042"
      },
      "outputs": [
        {
          "output_type": "stream",
          "name": "stdout",
          "text": [
            "hour_of_day  order_count\n",
            "         09            1\n",
            "         10            8\n",
            "         23           28\n",
            "         22          663\n",
            "         21         1198\n",
            "         11         1231\n",
            "         15         1468\n",
            "         14         1472\n",
            "         20         1642\n",
            "         16         1920\n",
            "         19         2009\n",
            "         17         2336\n",
            "         18         2399\n",
            "         13         2455\n",
            "         12         2520\n"
          ]
        }
      ],
      "source": [
        "## 2. Determine the distribution of orders by hour of the day.\n",
        "query_in_2 = 'SELECT strftime(\"%H\", time) AS hour_of_day, COUNT(order_id) AS order_count FROM orders GROUP BY hour_of_day ORDER BY order_count'\n",
        "distribution_by_hour = pd.read_sql(query_in_2, conn)\n",
        "print(distribution_by_hour.to_string(index=False))"
      ]
    },
    {
      "cell_type": "code",
      "execution_count": 58,
      "metadata": {
        "id": "X-Kev-9Gc1-j",
        "colab": {
          "base_uri": "https://localhost:8080/",
          "height": 0
        },
        "outputId": "c1db39ca-688d-4a1b-9c14-7f53cea7bd52"
      },
      "outputs": [
        {
          "output_type": "stream",
          "name": "stdout",
          "text": [
            "category  count\n",
            " Chicken  10815\n",
            " Classic  14579\n",
            " Supreme  11777\n",
            "  Veggie  11449\n"
          ]
        }
      ],
      "source": [
        "## 3. Join relevant tables to find the category-wise distribution of pizzas.\n",
        "query_in_3 = 'SELECT pizza_type.category, COUNT(order_details.order_details_id) AS count FROM order_details JOIN pizza ON order_details.pizza_id = pizza.pizza_id JOIN pizza_type ON pizza.pizza_type_id = pizza_type.pizza_type_id GROUP BY pizza_type.category'\n",
        "category_wise_distribution = pd.read_sql(query_in_3, conn)\n",
        "print(category_wise_distribution.to_string(index=False))"
      ]
    },
    {
      "cell_type": "code",
      "execution_count": 60,
      "metadata": {
        "id": "bH7QlHQgc169",
        "colab": {
          "base_uri": "https://localhost:8080/",
          "height": 0
        },
        "outputId": "29a2972f-c8b0-4013-ef6f-f594edecae8a"
      },
      "outputs": [
        {
          "output_type": "stream",
          "name": "stdout",
          "text": [
            "      date  avg_pizzas_per_day\n",
            "2015-01-01                 1.0\n",
            "2015-01-02                 1.0\n",
            "2015-01-03                 1.0\n",
            "2015-01-04                 1.0\n",
            "2015-01-05                 1.0\n",
            "2015-01-06                 1.0\n",
            "2015-01-07                 1.0\n",
            "2015-01-08                 1.0\n",
            "2015-01-09                 1.0\n",
            "2015-01-10                 1.0\n",
            "2015-01-11                 1.0\n",
            "2015-01-12                 1.0\n",
            "2015-01-13                 1.0\n",
            "2015-01-14                 1.0\n",
            "2015-01-15                 1.0\n",
            "2015-01-16                 1.0\n",
            "2015-01-17                 1.0\n",
            "2015-01-18                 1.0\n",
            "2015-01-19                 1.0\n",
            "2015-01-20                 1.0\n",
            "2015-01-21                 1.0\n",
            "2015-01-22                 1.0\n",
            "2015-01-23                 1.0\n",
            "2015-01-24                 1.0\n",
            "2015-01-25                 1.0\n",
            "2015-01-26                 1.0\n",
            "2015-01-27                 1.0\n",
            "2015-01-28                 1.0\n",
            "2015-01-29                 1.0\n",
            "2015-01-30                 1.0\n",
            "2015-01-31                 1.0\n",
            "2015-02-01                 1.0\n",
            "2015-02-02                 1.0\n",
            "2015-02-03                 1.0\n",
            "2015-02-04                 1.0\n",
            "2015-02-05                 1.0\n",
            "2015-02-06                 1.0\n",
            "2015-02-07                 1.0\n",
            "2015-02-08                 1.0\n",
            "2015-02-09                 1.0\n",
            "2015-02-10                 1.0\n",
            "2015-02-11                 1.0\n",
            "2015-02-12                 1.0\n",
            "2015-02-13                 1.0\n",
            "2015-02-14                 1.0\n",
            "2015-02-15                 1.0\n",
            "2015-02-16                 1.0\n",
            "2015-02-17                 1.0\n",
            "2015-02-18                 1.0\n",
            "2015-02-19                 1.0\n",
            "2015-02-20                 1.0\n",
            "2015-02-21                 1.0\n",
            "2015-02-22                 1.0\n",
            "2015-02-23                 1.0\n",
            "2015-02-24                 1.0\n",
            "2015-02-25                 1.0\n",
            "2015-02-26                 1.0\n",
            "2015-02-27                 1.0\n",
            "2015-02-28                 1.0\n",
            "2015-03-01                 1.0\n",
            "2015-03-02                 1.0\n",
            "2015-03-03                 1.0\n",
            "2015-03-04                 1.0\n",
            "2015-03-05                 1.0\n",
            "2015-03-06                 1.0\n",
            "2015-03-07                 1.0\n",
            "2015-03-08                 1.0\n",
            "2015-03-09                 1.0\n",
            "2015-03-10                 1.0\n",
            "2015-03-11                 1.0\n",
            "2015-03-12                 1.0\n",
            "2015-03-13                 1.0\n",
            "2015-03-14                 1.0\n",
            "2015-03-15                 1.0\n",
            "2015-03-16                 1.0\n",
            "2015-03-17                 1.0\n",
            "2015-03-18                 1.0\n",
            "2015-03-19                 1.0\n",
            "2015-03-20                 1.0\n",
            "2015-03-21                 1.0\n",
            "2015-03-22                 1.0\n",
            "2015-03-23                 1.0\n",
            "2015-03-24                 1.0\n",
            "2015-03-25                 1.0\n",
            "2015-03-26                 1.0\n",
            "2015-03-27                 1.0\n",
            "2015-03-28                 1.0\n",
            "2015-03-29                 1.0\n",
            "2015-03-30                 1.0\n",
            "2015-03-31                 1.0\n",
            "2015-04-01                 1.0\n",
            "2015-04-02                 1.0\n",
            "2015-04-03                 1.0\n",
            "2015-04-04                 1.0\n",
            "2015-04-05                 1.0\n",
            "2015-04-06                 1.0\n",
            "2015-04-07                 1.0\n",
            "2015-04-08                 1.0\n",
            "2015-04-09                 1.0\n",
            "2015-04-10                 1.0\n",
            "2015-04-11                 1.0\n",
            "2015-04-12                 1.0\n",
            "2015-04-13                 1.0\n",
            "2015-04-14                 1.0\n",
            "2015-04-15                 1.0\n",
            "2015-04-16                 1.0\n",
            "2015-04-17                 1.0\n",
            "2015-04-18                 1.0\n",
            "2015-04-19                 1.0\n",
            "2015-04-20                 1.0\n",
            "2015-04-21                 1.0\n",
            "2015-04-22                 1.0\n",
            "2015-04-23                 1.0\n",
            "2015-04-24                 1.0\n",
            "2015-04-25                 1.0\n",
            "2015-04-26                 1.0\n",
            "2015-04-27                 1.0\n",
            "2015-04-28                 1.0\n",
            "2015-04-29                 1.0\n",
            "2015-04-30                 1.0\n",
            "2015-05-01                 1.0\n",
            "2015-05-02                 1.0\n",
            "2015-05-03                 1.0\n",
            "2015-05-04                 1.0\n",
            "2015-05-05                 1.0\n",
            "2015-05-06                 1.0\n",
            "2015-05-07                 1.0\n",
            "2015-05-08                 1.0\n",
            "2015-05-09                 1.0\n",
            "2015-05-10                 1.0\n",
            "2015-05-11                 1.0\n",
            "2015-05-12                 1.0\n",
            "2015-05-13                 1.0\n",
            "2015-05-14                 1.0\n",
            "2015-05-15                 1.0\n",
            "2015-05-16                 1.0\n",
            "2015-05-17                 1.0\n",
            "2015-05-18                 1.0\n",
            "2015-05-19                 1.0\n",
            "2015-05-20                 1.0\n",
            "2015-05-21                 1.0\n",
            "2015-05-22                 1.0\n",
            "2015-05-23                 1.0\n",
            "2015-05-24                 1.0\n",
            "2015-05-25                 1.0\n",
            "2015-05-26                 1.0\n",
            "2015-05-27                 1.0\n",
            "2015-05-28                 1.0\n",
            "2015-05-29                 1.0\n",
            "2015-05-30                 1.0\n",
            "2015-05-31                 1.0\n",
            "2015-06-01                 1.0\n",
            "2015-06-02                 1.0\n",
            "2015-06-03                 1.0\n",
            "2015-06-04                 1.0\n",
            "2015-06-05                 1.0\n",
            "2015-06-06                 1.0\n",
            "2015-06-07                 1.0\n",
            "2015-06-08                 1.0\n",
            "2015-06-09                 1.0\n",
            "2015-06-10                 1.0\n",
            "2015-06-11                 1.0\n",
            "2015-06-12                 1.0\n",
            "2015-06-13                 1.0\n",
            "2015-06-14                 1.0\n",
            "2015-06-15                 1.0\n",
            "2015-06-16                 1.0\n",
            "2015-06-17                 1.0\n",
            "2015-06-18                 1.0\n",
            "2015-06-19                 1.0\n",
            "2015-06-20                 1.0\n",
            "2015-06-21                 1.0\n",
            "2015-06-22                 1.0\n",
            "2015-06-23                 1.0\n",
            "2015-06-24                 1.0\n",
            "2015-06-25                 1.0\n",
            "2015-06-26                 1.0\n",
            "2015-06-27                 1.0\n",
            "2015-06-28                 1.0\n",
            "2015-06-29                 1.0\n",
            "2015-06-30                 1.0\n",
            "2015-07-01                 1.0\n",
            "2015-07-02                 1.0\n",
            "2015-07-03                 1.0\n",
            "2015-07-04                 1.0\n",
            "2015-07-05                 1.0\n",
            "2015-07-06                 1.0\n",
            "2015-07-07                 1.0\n",
            "2015-07-08                 1.0\n",
            "2015-07-09                 1.0\n",
            "2015-07-10                 1.0\n",
            "2015-07-11                 1.0\n",
            "2015-07-12                 1.0\n",
            "2015-07-13                 1.0\n",
            "2015-07-14                 1.0\n",
            "2015-07-15                 1.0\n",
            "2015-07-16                 1.0\n",
            "2015-07-17                 1.0\n",
            "2015-07-18                 1.0\n",
            "2015-07-19                 1.0\n",
            "2015-07-20                 1.0\n",
            "2015-07-21                 1.0\n",
            "2015-07-22                 1.0\n",
            "2015-07-23                 1.0\n",
            "2015-07-24                 1.0\n",
            "2015-07-25                 1.0\n",
            "2015-07-26                 1.0\n",
            "2015-07-27                 1.0\n",
            "2015-07-28                 1.0\n",
            "2015-07-29                 1.0\n",
            "2015-07-30                 1.0\n",
            "2015-07-31                 1.0\n",
            "2015-08-01                 1.0\n",
            "2015-08-02                 1.0\n",
            "2015-08-03                 1.0\n",
            "2015-08-04                 1.0\n",
            "2015-08-05                 1.0\n",
            "2015-08-06                 1.0\n",
            "2015-08-07                 1.0\n",
            "2015-08-08                 1.0\n",
            "2015-08-09                 1.0\n",
            "2015-08-10                 1.0\n",
            "2015-08-11                 1.0\n",
            "2015-08-12                 1.0\n",
            "2015-08-13                 1.0\n",
            "2015-08-14                 1.0\n",
            "2015-08-15                 1.0\n",
            "2015-08-16                 1.0\n",
            "2015-08-17                 1.0\n",
            "2015-08-18                 1.0\n",
            "2015-08-19                 1.0\n",
            "2015-08-20                 1.0\n",
            "2015-08-21                 1.0\n",
            "2015-08-22                 1.0\n",
            "2015-08-23                 1.0\n",
            "2015-08-24                 1.0\n",
            "2015-08-25                 1.0\n",
            "2015-08-26                 1.0\n",
            "2015-08-27                 1.0\n",
            "2015-08-28                 1.0\n",
            "2015-08-29                 1.0\n",
            "2015-08-30                 1.0\n",
            "2015-08-31                 1.0\n",
            "2015-09-01                 1.0\n",
            "2015-09-02                 1.0\n",
            "2015-09-03                 1.0\n",
            "2015-09-04                 1.0\n",
            "2015-09-05                 1.0\n",
            "2015-09-06                 1.0\n",
            "2015-09-07                 1.0\n",
            "2015-09-08                 1.0\n",
            "2015-09-09                 1.0\n",
            "2015-09-10                 1.0\n",
            "2015-09-11                 1.0\n",
            "2015-09-12                 1.0\n",
            "2015-09-13                 1.0\n",
            "2015-09-14                 1.0\n",
            "2015-09-15                 1.0\n",
            "2015-09-16                 1.0\n",
            "2015-09-17                 1.0\n",
            "2015-09-18                 1.0\n",
            "2015-09-19                 1.0\n",
            "2015-09-20                 1.0\n",
            "2015-09-21                 1.0\n",
            "2015-09-22                 1.0\n",
            "2015-09-23                 1.0\n",
            "2015-09-26                 1.0\n",
            "2015-09-27                 1.0\n",
            "2015-09-28                 1.0\n",
            "2015-09-29                 1.0\n",
            "2015-09-30                 1.0\n",
            "2015-10-01                 1.0\n",
            "2015-10-02                 1.0\n",
            "2015-10-03                 1.0\n",
            "2015-10-04                 1.0\n",
            "2015-10-06                 1.0\n",
            "2015-10-07                 1.0\n",
            "2015-10-08                 1.0\n",
            "2015-10-09                 1.0\n",
            "2015-10-10                 1.0\n",
            "2015-10-11                 1.0\n",
            "2015-10-13                 1.0\n",
            "2015-10-14                 1.0\n",
            "2015-10-15                 1.0\n",
            "2015-10-16                 1.0\n",
            "2015-10-17                 1.0\n",
            "2015-10-18                 1.0\n",
            "2015-10-20                 1.0\n",
            "2015-10-21                 1.0\n",
            "2015-10-22                 1.0\n",
            "2015-10-23                 1.0\n",
            "2015-10-24                 1.0\n",
            "2015-10-25                 1.0\n",
            "2015-10-27                 1.0\n",
            "2015-10-28                 1.0\n",
            "2015-10-29                 1.0\n",
            "2015-10-30                 1.0\n",
            "2015-10-31                 1.0\n",
            "2015-11-01                 1.0\n",
            "2015-11-02                 1.0\n",
            "2015-11-03                 1.0\n",
            "2015-11-04                 1.0\n",
            "2015-11-05                 1.0\n",
            "2015-11-06                 1.0\n",
            "2015-11-07                 1.0\n",
            "2015-11-08                 1.0\n",
            "2015-11-09                 1.0\n",
            "2015-11-10                 1.0\n",
            "2015-11-11                 1.0\n",
            "2015-11-12                 1.0\n",
            "2015-11-13                 1.0\n",
            "2015-11-14                 1.0\n",
            "2015-11-15                 1.0\n",
            "2015-11-16                 1.0\n",
            "2015-11-17                 1.0\n",
            "2015-11-18                 1.0\n",
            "2015-11-19                 1.0\n",
            "2015-11-20                 1.0\n",
            "2015-11-21                 1.0\n",
            "2015-11-22                 1.0\n",
            "2015-11-23                 1.0\n",
            "2015-11-24                 1.0\n",
            "2015-11-25                 1.0\n",
            "2015-11-26                 1.0\n",
            "2015-11-27                 1.0\n",
            "2015-11-28                 1.0\n",
            "2015-11-29                 1.0\n",
            "2015-11-30                 1.0\n",
            "2015-12-01                 1.0\n",
            "2015-12-02                 1.0\n",
            "2015-12-03                 1.0\n",
            "2015-12-04                 1.0\n",
            "2015-12-05                 1.0\n",
            "2015-12-06                 1.0\n",
            "2015-12-07                 1.0\n",
            "2015-12-08                 1.0\n",
            "2015-12-09                 1.0\n",
            "2015-12-10                 1.0\n",
            "2015-12-11                 1.0\n",
            "2015-12-12                 1.0\n",
            "2015-12-13                 1.0\n",
            "2015-12-14                 1.0\n",
            "2015-12-15                 1.0\n",
            "2015-12-16                 1.0\n",
            "2015-12-17                 1.0\n",
            "2015-12-18                 1.0\n",
            "2015-12-19                 1.0\n",
            "2015-12-20                 1.0\n",
            "2015-12-21                 1.0\n",
            "2015-12-22                 1.0\n",
            "2015-12-23                 1.0\n",
            "2015-12-24                 1.0\n",
            "2015-12-26                 1.0\n",
            "2015-12-27                 1.0\n",
            "2015-12-28                 1.0\n",
            "2015-12-29                 1.0\n",
            "2015-12-30                 1.0\n",
            "2015-12-31                 1.0\n"
          ]
        }
      ],
      "source": [
        "## 4. Group the orders by date and calculate the average number of pizzas ordered per day.\n",
        "query_in_4 = 'SELECT strftime(\"%Y-%m-%d\", date) AS date, round(AVG(quantity)) AS avg_pizzas_per_day FROM (SELECT orders.date, order_details.quantity FROM orders JOIN order_details ON orders.order_id = order_details.order_id) GROUP BY date'\n",
        "avg_pizzas_per_day = pd.read_sql(query_in_4, conn)\n",
        "print(avg_pizzas_per_day.to_string(index=False))"
      ]
    },
    {
      "cell_type": "code",
      "execution_count": 61,
      "metadata": {
        "id": "1_pP3ycXc1uV",
        "colab": {
          "base_uri": "https://localhost:8080/",
          "height": 0
        },
        "outputId": "d6880059-b19d-4dfe-996f-3ef9f32ab032"
      },
      "outputs": [
        {
          "output_type": "stream",
          "name": "stdout",
          "text": [
            "                        name  total_revenue\n",
            "      The Thai Chicken Pizza       43434.25\n",
            "  The Barbecue Chicken Pizza       42768.00\n",
            "The California Chicken Pizza       41409.50\n"
          ]
        }
      ],
      "source": [
        "## 5. Determine the top 3 most ordered pizza types based on revenue.\n",
        "query_in_5 = 'SELECT pizza_type.name, SUM(order_details.quantity * pizza.price) AS total_revenue FROM order_details JOIN pizza ON order_details.pizza_id = pizza.pizza_id JOIN pizza_type ON pizza.pizza_type_id = pizza_type.pizza_type_id GROUP BY pizza_type.name ORDER BY total_revenue DESC LIMIT 3'\n",
        "top_3_most_ordered_pizza_types = pd.read_sql(query_in_5, conn)\n",
        "print(top_3_most_ordered_pizza_types.to_string(index=False))"
      ]
    },
    {
      "cell_type": "code",
      "source": [
        "import matplotlib.pyplot as plt\n",
        "\n",
        "# Query to verify the top 3 most ordered pizzas based on revenue using plot\n",
        "query_in_5 = '''\n",
        "SELECT pt.name, SUM(od.quantity * p.price) AS total_revenue\n",
        "FROM order_details od\n",
        "JOIN pizza p ON od.pizza_id = p.pizza_id\n",
        "JOIN pizza_type pt ON p.pizza_type_id = pt.pizza_type_id\n",
        "GROUP BY pt.name\n",
        "ORDER BY total_revenue DESC\n",
        "LIMIT 7\n",
        "'''\n",
        "top_7_most_ordered_pizza_types = pd.read_sql(query_in_5, conn)\n",
        "\n",
        "# Shuffle the DataFrame rows\n",
        "top_7_most_ordered_pizza_types = top_7_most_ordered_pizza_types.sample(frac=1).reset_index(drop=True)\n",
        "\n",
        "# Plotting the graph\n",
        "colors = plt.cm.Paired(range(len(top_7_most_ordered_pizza_types)))\n",
        "#plt.figure(figsize=(10, 6))\n",
        "plt.bar(top_7_most_ordered_pizza_types['name'], top_7_most_ordered_pizza_types['total_revenue'], color=colors)\n",
        "plt.xlabel('Pizza Type')\n",
        "plt.ylabel('Total Revenue')\n",
        "plt.title('Most Ordered Pizza Types Based on Revenue')\n",
        "plt.xticks(rotation=45)\n",
        "plt.show()\n"
      ],
      "metadata": {
        "colab": {
          "base_uri": "https://localhost:8080/",
          "height": 610
        },
        "id": "Wu6TYucQZFQ9",
        "outputId": "10ee365c-47fa-4389-c102-6aa60ab4c23e"
      },
      "execution_count": 95,
      "outputs": [
        {
          "output_type": "display_data",
          "data": {
            "text/plain": [
              "<Figure size 640x480 with 1 Axes>"
            ],
            "image/png": "[encoded data removed]"
          },
          "metadata": {}
        }
      ]
    },
    {
      "cell_type": "markdown",
      "metadata": {
        "id": "cVM8ril5clUH"
      },
      "source": [
        "## Advanced:\n",
        "1. Calculate the percentage contribution of each pizza type to total revenue.\n",
        "2. Analyze the cumulative revenue generated over time.\n",
        "3. Determine the top 3 most ordered pizza types based on revenue for each pizza category."
      ]
    },
    {
      "cell_type": "code",
      "execution_count": 76,
      "metadata": {
        "id": "2TUHIXRtcqav",
        "colab": {
          "base_uri": "https://localhost:8080/",
          "height": 0
        },
        "outputId": "8f020108-a92a-4a7f-b8b4-8833d34235b1"
      },
      "outputs": [
        {
          "output_type": "stream",
          "name": "stdout",
          "text": [
            "                                      name  total_revenue  percentage_contribution\n",
            "                The Barbecue Chicken Pizza       42768.00                 5.229257\n",
            "                        The Big Meat Pizza       22968.00                 2.808304\n",
            "                      The Brie Carre Pizza       11588.50                 1.416929\n",
            "                       The Calabrese Pizza       15934.25                 1.948286\n",
            "              The California Chicken Pizza       41409.50                 5.063152\n",
            "                 The Chicken Alfredo Pizza       16900.25                 2.066399\n",
            "                   The Chicken Pesto Pizza       16701.75                 2.042128\n",
            "                  The Classic Deluxe Pizza       38180.50                 4.668341\n",
            "                     The Five Cheese Pizza       26066.50                 3.187159\n",
            "                     The Four Cheese Pizza       32265.70                 3.945137\n",
            "                           The Greek Pizza       28454.10                 3.479092\n",
            "                    The Green Garden Pizza       13955.75                 1.706374\n",
            "                        The Hawaiian Pizza       32273.25                 3.946060\n",
            "               The Italian Capocollo Pizza       25094.00                 3.068251\n",
            "                 The Italian Supreme Pizza       33476.75                 4.093213\n",
            "              The Italian Vegetables Pizza       16019.25                 1.958679\n",
            "                   The Mediterranean Pizza       15360.50                 1.878133\n",
            "                        The Mexicana Pizza       26780.75                 3.274491\n",
            "                      The Napolitana Pizza       24087.00                 2.945125\n",
            "                   The Pepper Salami Pizza       25529.00                 3.121439\n",
            "                       The Pepperoni Pizza       30161.75                 3.687886\n",
            "The Pepperoni, Mushroom, and Peppers Pizza       18834.50                 2.302900\n",
            "          The Prosciutto and Arugula Pizza       24193.25                 2.958116\n",
            "                        The Sicilian Pizza       30940.50                 3.783104\n",
            "                     The Soppressata Pizza       16425.75                 2.008382\n",
            "               The Southwest Chicken Pizza       34705.75                 4.243483\n",
            "                   The Spicy Italian Pizza       34831.25                 4.258828\n",
            "                   The Spinach Pesto Pizza       15596.00                 1.906928\n",
            "                 The Spinach Supreme Pizza       15277.75                 1.868015\n",
            "                The Spinach and Feta Pizza       23271.25                 2.845383\n",
            "                    The Thai Chicken Pizza       43434.25                 5.310719\n",
            "         The Vegetables + Vegetables Pizza       24374.75                 2.980308\n"
          ]
        }
      ],
      "source": [
        "## 1. Calculate the percentage contribution of each pizza type to total revenue.\n",
        "query_adv_1 = 'SELECT pizza_type.name, SUM(order_details.quantity * pizza.price) AS total_revenue FROM order_details JOIN pizza ON order_details.pizza_id = pizza.pizza_id JOIN pizza_type ON pizza.pizza_type_id = pizza_type.pizza_type_id GROUP BY pizza_type.name'\n",
        "pizza_type_revenue = pd.read_sql(query_adv_1, conn)\n",
        "total_revenue = pizza_type_revenue['total_revenue'].sum()\n",
        "pizza_type_revenue['percentage_contribution'] = pizza_type_revenue['total_revenue'] / total_revenue * 100\n",
        "print(pizza_type_revenue.to_string(index=False))"
      ]
    },
    {
      "cell_type": "code",
      "source": [
        "import matplotlib.pyplot as plt\n",
        "\n",
        "# Query to verify the percentage contribution of each pizza type to total revenue using plot\n",
        "query_adv_1 = '''\n",
        "SELECT pt.name, SUM(od.quantity * p.price) AS total_revenue\n",
        "FROM order_details od\n",
        "JOIN pizza p ON od.pizza_id = p.pizza_id\n",
        "JOIN pizza_type pt ON p.pizza_type_id = pt.pizza_type_id\n",
        "GROUP BY pt.name\n",
        "'''\n",
        "pizza_type_revenue = pd.read_sql(query_adv_1, conn)\n",
        "total_revenue = pizza_type_revenue['total_revenue'].sum()\n",
        "pizza_type_revenue['percentage_contribution'] = pizza_type_revenue['total_revenue'] / total_revenue * 100\n",
        "\n",
        "# Get the top 7 pizza types\n",
        "top_7_pizza_types = pizza_type_revenue.nlargest(7, 'percentage_contribution')\n",
        "\n",
        "# Shuffle the DataFrame rows\n",
        "top_7_pizza_types = top_7_pizza_types.sample(frac=1).reset_index(drop=True)\n",
        "\n",
        "# Plotting the graph\n",
        "colors = plt.cm.Paired(range(len(top_7_pizza_types)))\n",
        "#plt.figure(figsize=(10, 6))\n",
        "plt.bar(top_7_pizza_types['name'], top_7_pizza_types['percentage_contribution'], color=colors)\n",
        "plt.xlabel('Pizza Type')\n",
        "plt.ylabel('Percentage Contribution to Total Revenue')\n",
        "plt.title('Top 7 Pizza Types by Percentage Contribution to Total Revenue')\n",
        "plt.xticks(rotation=45)\n",
        "plt.show()\n"
      ],
      "metadata": {
        "colab": {
          "base_uri": "https://localhost:8080/",
          "height": 610
        },
        "id": "LoxskwdXYlRh",
        "outputId": "06398b51-f284-4ebb-e20b-e875d441dd1d"
      },
      "execution_count": 89,
      "outputs": [
        {
          "output_type": "display_data",
          "data": {
            "text/plain": [
              "<Figure size 640x480 with 1 Axes>"
            ],
            "image/png": "[encoded data removed]"
          },
          "metadata": {}
        }
      ]
    },
    {
      "cell_type": "code",
      "execution_count": 77,
      "metadata": {
        "id": "4qP8ov1GdCLm",
        "colab": {
          "base_uri": "https://localhost:8080/"
        },
        "outputId": "ec79c394-0129-4f8e-bf97-51b1e44a0ca3"
      },
      "outputs": [
        {
          "output_type": "stream",
          "name": "stdout",
          "text": [
            "      date  cumulative_revenue\n",
            "2015-01-01             2713.85\n",
            "2015-01-02             2731.90\n",
            "2015-01-03             2662.40\n",
            "2015-01-04             1755.45\n",
            "2015-01-05             2065.95\n",
            "2015-01-06             2428.95\n",
            "2015-01-07             2202.20\n",
            "2015-01-08             2838.35\n",
            "2015-01-09             2127.35\n",
            "2015-01-10             2463.95\n",
            "2015-01-11             1872.30\n",
            "2015-01-12             1919.05\n",
            "2015-01-13             2049.60\n",
            "2015-01-14             2527.40\n",
            "2015-01-15             1984.80\n",
            "2015-01-16             2594.15\n",
            "2015-01-17             2064.10\n",
            "2015-01-18             1976.85\n",
            "2015-01-19             2387.15\n",
            "2015-01-20             2397.90\n",
            "2015-01-21             2040.55\n",
            "2015-01-22             2496.70\n",
            "2015-01-23             2423.70\n",
            "2015-01-24             2289.25\n",
            "2015-01-25             1617.55\n",
            "2015-01-26             1884.40\n",
            "2015-01-27             2528.05\n",
            "2015-01-28             2016.00\n",
            "2015-01-29             2045.30\n",
            "2015-01-30             2270.30\n",
            "2015-01-31             2417.85\n",
            "2015-02-01             3189.20\n",
            "2015-02-02             2328.60\n",
            "2015-02-03             2614.80\n",
            "2015-02-04             2233.90\n",
            "2015-02-05             2215.80\n",
            "2015-02-06             2509.95\n",
            "2015-02-07             2237.65\n",
            "2015-02-08             2035.00\n",
            "2015-02-09             2195.35\n",
            "2015-02-10             2056.50\n",
            "2015-02-11             2460.00\n",
            "2015-02-12             2158.80\n",
            "2015-02-13             2754.50\n",
            "2015-02-14             2319.15\n",
            "2015-02-15             2141.25\n",
            "2015-02-16             1968.80\n",
            "2015-02-17             2121.90\n",
            "2015-02-18             2642.85\n",
            "2015-02-19             2030.25\n",
            "2015-02-20             2891.15\n",
            "2015-02-21             2111.00\n",
            "2015-02-22             1579.95\n",
            "2015-02-23             2168.55\n",
            "2015-02-24             2194.55\n",
            "2015-02-25             2341.30\n",
            "2015-02-26             2261.30\n",
            "2015-02-27             2857.95\n",
            "2015-02-28             2539.60\n",
            "2015-03-01             1598.55\n",
            "2015-03-02             2379.05\n",
            "2015-03-03             2287.90\n",
            "2015-03-04             2444.30\n",
            "2015-03-05             2350.65\n",
            "2015-03-06             2513.95\n",
            "2015-03-07             2400.45\n",
            "2015-03-08             2188.15\n",
            "2015-03-09             2334.55\n",
            "2015-03-10             2388.70\n",
            "2015-03-11             2207.70\n",
            "2015-03-12             1994.90\n",
            "2015-03-13             2786.65\n",
            "2015-03-14             2039.45\n",
            "2015-03-15             2068.60\n",
            "2015-03-16             2295.05\n",
            "2015-03-17             2965.30\n",
            "2015-03-18             2075.40\n",
            "2015-03-19             2388.60\n",
            "2015-03-20             2461.25\n",
            "2015-03-21             2267.40\n",
            "2015-03-22             1259.25\n",
            "2015-03-23             2232.55\n",
            "2015-03-24             2162.30\n",
            "2015-03-25             1927.75\n",
            "2015-03-26             2215.50\n",
            "2015-03-27             2744.80\n",
            "2015-03-28             2252.10\n",
            "2015-03-29             2154.25\n",
            "2015-03-30             2255.45\n",
            "2015-03-31             2756.60\n",
            "2015-04-01             2176.85\n",
            "2015-04-02             2547.15\n",
            "2015-04-03             2538.20\n",
            "2015-04-04             2767.55\n",
            "2015-04-05             1909.85\n",
            "2015-04-06             2622.35\n",
            "2015-04-07             2234.25\n",
            "2015-04-08             2293.95\n",
            "2015-04-09             2047.30\n",
            "2015-04-10             2424.95\n",
            "2015-04-11             2543.75\n",
            "2015-04-12             1994.30\n",
            "2015-04-13             2496.20\n",
            "2015-04-14             2505.70\n",
            "2015-04-15             2578.85\n",
            "2015-04-16             2017.95\n",
            "2015-04-17             2675.65\n",
            "2015-04-18             2286.20\n",
            "2015-04-19             1527.95\n",
            "2015-04-20             2459.45\n",
            "2015-04-21             2213.15\n",
            "2015-04-22             2193.45\n",
            "2015-04-23             2426.15\n",
            "2015-04-24             2979.20\n",
            "2015-04-25             2089.20\n",
            "2015-04-26             1767.40\n",
            "2015-04-27             2180.80\n",
            "2015-04-28             1742.80\n",
            "2015-04-29             1828.75\n",
            "2015-04-30             2667.50\n",
            "2015-05-01             2571.95\n",
            "2015-05-02             2400.20\n",
            "2015-05-03             1832.25\n",
            "2015-05-04             2288.90\n",
            "2015-05-05             1713.60\n",
            "2015-05-06             2309.80\n",
            "2015-05-07             2228.85\n",
            "2015-05-08             3052.30\n",
            "2015-05-09             2368.40\n",
            "2015-05-10             2288.35\n",
            "2015-05-11             2388.05\n",
            "2015-05-12             2299.70\n",
            "2015-05-13             2261.80\n",
            "2015-05-14             2694.50\n",
            "2015-05-15             3386.15\n",
            "2015-05-16             2281.10\n",
            "2015-05-17             1828.40\n",
            "2015-05-18             2209.65\n",
            "2015-05-19             1987.00\n",
            "2015-05-20             2373.00\n",
            "2015-05-21             2062.55\n",
            "2015-05-22             2635.10\n",
            "2015-05-23             2444.15\n",
            "2015-05-24             2196.95\n",
            "2015-05-25             2104.40\n",
            "2015-05-26             1876.45\n",
            "2015-05-27             2097.00\n",
            "2015-05-28             2016.40\n",
            "2015-05-29             3001.20\n",
            "2015-05-30             2486.95\n",
            "2015-05-31             1717.65\n",
            "2015-06-01             3067.75\n",
            "2015-06-02             2449.95\n",
            "2015-06-03             1907.05\n",
            "2015-06-04             2283.60\n",
            "2015-06-05             2700.15\n",
            "2015-06-06             2280.95\n",
            "2015-06-07             1960.75\n",
            "2015-06-08             2264.95\n",
            "2015-06-09             2442.55\n",
            "2015-06-10             2019.40\n",
            "2015-06-11             2650.50\n",
            "2015-06-12             2138.60\n",
            "2015-06-13             2508.90\n",
            "2015-06-14             1859.00\n",
            "2015-06-15             2595.60\n",
            "2015-06-16             1898.30\n",
            "2015-06-17             2137.10\n",
            "2015-06-18             1984.50\n",
            "2015-06-19             2793.45\n",
            "2015-06-20             2060.60\n",
            "2015-06-21             1925.20\n",
            "2015-06-22             2319.30\n",
            "2015-06-23             2042.75\n",
            "2015-06-24             2327.50\n",
            "2015-06-25             2399.15\n",
            "2015-06-26             2745.50\n",
            "2015-06-27             2812.90\n",
            "2015-06-28             1569.70\n",
            "2015-06-29             1873.60\n",
            "2015-06-30             2210.95\n",
            "2015-07-01             2231.50\n",
            "2015-07-02             2294.80\n",
            "2015-07-03             3443.00\n",
            "2015-07-04             3864.20\n",
            "2015-07-05             1591.45\n",
            "2015-07-06             2116.90\n",
            "2015-07-07             2374.40\n",
            "2015-07-08             2396.05\n",
            "2015-07-09             2297.75\n",
            "2015-07-10             2432.40\n",
            "2015-07-11             2085.55\n",
            "2015-07-12             2185.65\n",
            "2015-07-13             2059.50\n",
            "2015-07-14             1956.50\n",
            "2015-07-15             2501.80\n",
            "2015-07-16             2463.90\n",
            "2015-07-17             3131.65\n",
            "2015-07-18             2122.20\n",
            "2015-07-19             2022.70\n",
            "2015-07-20             2501.00\n",
            "2015-07-21             2030.85\n",
            "2015-07-22             2292.10\n",
            "2015-07-23             2214.50\n",
            "2015-07-24             3204.40\n",
            "2015-07-25             2237.25\n",
            "2015-07-26             1871.55\n",
            "2015-07-27             2172.00\n",
            "2015-07-28             2094.55\n",
            "2015-07-29             1923.25\n",
            "2015-07-30             2349.15\n",
            "2015-07-31             2095.40\n",
            "2015-08-01             2440.55\n",
            "2015-08-02             1910.15\n",
            "2015-08-03             1982.25\n",
            "2015-08-04             2090.15\n",
            "2015-08-05             2094.85\n",
            "2015-08-06             2099.25\n",
            "2015-08-07             2626.40\n",
            "2015-08-08             2716.40\n",
            "2015-08-09             2002.65\n",
            "2015-08-10             2139.45\n",
            "2015-08-11             2290.00\n",
            "2015-08-12             2365.75\n",
            "2015-08-13             2074.15\n",
            "2015-08-14             3016.60\n",
            "2015-08-15             2252.35\n",
            "2015-08-16             2139.30\n",
            "2015-08-17             2626.00\n",
            "2015-08-18             2101.20\n",
            "2015-08-19             2332.95\n",
            "2015-08-20             1907.70\n",
            "2015-08-21             2601.40\n",
            "2015-08-22             2406.00\n",
            "2015-08-23             1701.60\n",
            "2015-08-24             1697.05\n",
            "2015-08-25             1958.90\n",
            "2015-08-26             2329.40\n",
            "2015-08-27             2117.65\n",
            "2015-08-28             2647.20\n",
            "2015-08-29             2035.00\n",
            "2015-08-30             1494.60\n",
            "2015-08-31             2081.35\n",
            "2015-09-01             2352.85\n",
            "2015-09-02             1865.55\n",
            "2015-09-03             2252.60\n",
            "2015-09-04             2960.95\n",
            "2015-09-05             2537.80\n",
            "2015-09-06             1491.65\n",
            "2015-09-07             2283.35\n",
            "2015-09-08             2249.50\n",
            "2015-09-09             2580.10\n",
            "2015-09-10             2415.85\n",
            "2015-09-11             2761.90\n",
            "2015-09-12             2588.15\n",
            "2015-09-13             1838.15\n",
            "2015-09-14             2165.25\n",
            "2015-09-15             2550.20\n",
            "2015-09-16             2185.25\n",
            "2015-09-17             2242.05\n",
            "2015-09-18             2721.55\n",
            "2015-09-19             2286.55\n",
            "2015-09-20             1829.00\n",
            "2015-09-21             2131.45\n",
            "2015-09-22             2170.40\n",
            "2015-09-23             2163.00\n",
            "2015-09-26             2246.85\n",
            "2015-09-27             2314.70\n",
            "2015-09-28             2035.30\n",
            "2015-09-29             2762.05\n",
            "2015-09-30             2198.05\n",
            "2015-10-01             3202.15\n",
            "2015-10-02             2074.85\n",
            "2015-10-03             2400.95\n",
            "2015-10-04             2142.20\n",
            "2015-10-06             2215.95\n",
            "2015-10-07             2092.35\n",
            "2015-10-08             1975.85\n",
            "2015-10-09             2512.60\n",
            "2015-10-10             2310.20\n",
            "2015-10-11             1916.25\n",
            "2015-10-13             2325.95\n",
            "2015-10-14             2146.35\n",
            "2015-10-15             4320.20\n",
            "2015-10-16             2555.10\n",
            "2015-10-17             2339.80\n",
            "2015-10-18             1795.30\n",
            "2015-10-20             2437.15\n",
            "2015-10-21             2460.50\n",
            "2015-10-22             2400.90\n",
            "2015-10-23             2610.65\n",
            "2015-10-24             2679.50\n",
            "2015-10-25             1837.05\n",
            "2015-10-27             1988.65\n",
            "2015-10-28             1635.95\n",
            "2015-10-29             2169.75\n",
            "2015-10-30             2736.60\n",
            "2015-10-31             2744.85\n",
            "2015-11-01             1986.65\n",
            "2015-11-02             2299.10\n",
            "2015-11-03             1828.55\n",
            "2015-11-04             1966.10\n",
            "2015-11-05             2180.35\n",
            "2015-11-06             3157.50\n",
            "2015-11-07             2580.95\n",
            "2015-11-08             2110.15\n",
            "2015-11-09             2483.75\n",
            "2015-11-10             2042.60\n",
            "2015-11-11             1946.20\n",
            "2015-11-12             2564.80\n",
            "2015-11-13             2264.55\n",
            "2015-11-14             2324.75\n",
            "2015-11-15             1821.65\n",
            "2015-11-16             2256.65\n",
            "2015-11-17             1956.55\n",
            "2015-11-18             2111.70\n",
            "2015-11-19             2694.90\n",
            "2015-11-20             2388.10\n",
            "2015-11-21             2083.95\n",
            "2015-11-22             1368.70\n",
            "2015-11-23             2465.15\n",
            "2015-11-24             2230.05\n",
            "2015-11-25             2363.25\n",
            "2015-11-26             4405.95\n",
            "2015-11-27             4422.45\n",
            "2015-11-28             1968.05\n",
            "2015-11-29             1899.00\n",
            "2015-11-30             2223.25\n",
            "2015-12-01             2076.70\n",
            "2015-12-02             2214.10\n",
            "2015-12-03             2243.20\n",
            "2015-12-04             2878.35\n",
            "2015-12-05             2627.95\n",
            "2015-12-06             2350.25\n",
            "2015-12-07             2414.80\n",
            "2015-12-08             1856.25\n",
            "2015-12-09             2571.55\n",
            "2015-12-10             1985.60\n",
            "2015-12-11             2634.00\n",
            "2015-12-12             1960.15\n",
            "2015-12-13             2245.15\n",
            "2015-12-14             2172.60\n",
            "2015-12-15             2387.45\n",
            "2015-12-16             2234.80\n",
            "2015-12-17             1880.75\n",
            "2015-12-18             2886.30\n",
            "2015-12-19             2304.20\n",
            "2015-12-20             2104.90\n",
            "2015-12-21             2100.70\n",
            "2015-12-22             1882.95\n",
            "2015-12-23             2244.30\n",
            "2015-12-24             2137.85\n",
            "2015-12-26             1643.05\n",
            "2015-12-27             1419.00\n",
            "2015-12-28             1637.20\n",
            "2015-12-29             1353.25\n",
            "2015-12-30             1337.80\n",
            "2015-12-31             2916.00\n"
          ]
        }
      ],
      "source": [
        "## 2. Analyze the cumulative revenue generated over time.\n",
        "query_adv_2 = 'SELECT strftime(\"%Y-%m-%d\", date) AS date, SUM(order_details.quantity * pizza.price) AS cumulative_revenue FROM orders JOIN order_details ON orders.order_id = order_details.order_id JOIN pizza ON order_details.pizza_id = pizza.pizza_id GROUP BY date'\n",
        "cumulative_revenue = pd.read_sql(query_adv_2, conn)\n",
        "print(cumulative_revenue.to_string(index=False))"
      ]
    },
    {
      "cell_type": "code",
      "execution_count": 78,
      "metadata": {
        "id": "q1QDFz2fdCB8",
        "colab": {
          "base_uri": "https://localhost:8080/"
        },
        "outputId": "c1746d92-330b-49b5-d010-933515a365e1"
      },
      "outputs": [
        {
          "output_type": "stream",
          "name": "stdout",
          "text": [
            "category                         name  total_revenue\n",
            " Chicken       The Thai Chicken Pizza       43434.25\n",
            " Chicken   The Barbecue Chicken Pizza       42768.00\n",
            " Chicken The California Chicken Pizza       41409.50\n"
          ]
        }
      ],
      "source": [
        "## 3. Determine the top 3 most ordered pizza types based on revenue for each pizza category.\n",
        "query_adv_3 = 'SELECT pizza_type.category, pizza_type.name, SUM(order_details.quantity * pizza.price) AS total_revenue FROM order_details JOIN pizza ON order_details.pizza_id = pizza.pizza_id JOIN pizza_type ON pizza.pizza_type_id = pizza_type.pizza_type_id GROUP BY pizza_type.category, pizza_type.name ORDER BY total_revenue DESC LIMIT 3'\n",
        "top_3_most_ordered_pizza_types_per_category = pd.read_sql(query_adv_3, conn)\n",
        "print(top_3_most_ordered_pizza_types_per_category.to_string(index=False))"
      ]
    },
    {
      "cell_type": "code",
      "source": [
        "import matplotlib.pyplot as plt\n",
        "\n",
        "# Query to get the top 7 most ordered pizzas based on revenue using plot\n",
        "query_adv_7 = '''\n",
        "SELECT pt.name, SUM(od.quantity * p.price) AS total_revenue\n",
        "FROM order_details od\n",
        "JOIN pizza p ON od.pizza_id = p.pizza_id\n",
        "JOIN pizza_type pt ON p.pizza_type_id = pt.pizza_type_id\n",
        "GROUP BY pt.name\n",
        "ORDER BY total_revenue DESC\n",
        "LIMIT 7\n",
        "'''\n",
        "top_7_most_ordered_pizza_types = pd.read_sql(query_adv_7, conn)\n",
        "\n",
        "# Shuffle the DataFrame rows\n",
        "top_7_most_ordered_pizza_types = top_7_most_ordered_pizza_types.sample(frac=1).reset_index(drop=True)\n",
        "\n",
        "# Plotting the graph\n",
        "colors = plt.cm.Paired(range(len(top_7_most_ordered_pizza_types)))\n",
        "#plt.figure(figsize=(8, 4))\n",
        "plt.bar(top_7_most_ordered_pizza_types['name'], top_7_most_ordered_pizza_types['total_revenue'], color=colors)\n",
        "plt.xlabel('Pizza Type')\n",
        "plt.ylabel('Total Revenue')\n",
        "plt.title('Top 7 Most Ordered Pizza Types Based on Revenue')\n",
        "plt.xticks(rotation=45)\n",
        "plt.show()\n"
      ],
      "metadata": {
        "colab": {
          "base_uri": "https://localhost:8080/",
          "height": 610
        },
        "id": "P7Md_1B0UbRO",
        "outputId": "c57f7242-734d-479c-db35-84431a473ae5"
      },
      "execution_count": 88,
      "outputs": [
        {
          "output_type": "display_data",
          "data": {
            "text/plain": [
              "<Figure size 640x480 with 1 Axes>"
            ],
            "image/png": "[encoded data removed]"
          },
          "metadata": {}
        }
      ]
    }
  ],
  "metadata": {
    "colab": {
      "provenance": [],
      "authorship_tag": "ABX9TyMQzwrRcT6jDfL8sEgf0+ra",
      "include_colab_link": true
    },
    "kernelspec": {
      "display_name": "Python 3",
      "name": "python3"
    },
    "language_info": {
      "name": "python"
    }
  },
  "nbformat": 4,
  "nbformat_minor": 0
}